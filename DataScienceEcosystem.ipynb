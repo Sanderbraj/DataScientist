{
 "cells": [
  {
   "cell_type": "markdown",
   "id": "638419c2-1d4a-400f-9f96-fe7076603c6e",
   "metadata": {},
   "source": [
    "# Data Science Tools and Ecosystem"
   ]
  },
  {
   "cell_type": "markdown",
   "id": "45b3d056-9a05-44ba-9c22-31f21d9aa250",
   "metadata": {},
   "source": [
    "In this notebook, Data Science Tools and Ecosystem are summarized."
   ]
  },
  {
   "cell_type": "markdown",
   "id": "148d3b55-20de-4a28-aa90-4e4433b31fa3",
   "metadata": {},
   "source": [
    "|Some of the popular languages that Data Scientists use are:| no.order|\n",
    "|----|----|\n",
    "|Python|1|\n",
    "|Java|2|\n",
    "|R|3|"
   ]
  },
  {
   "cell_type": "markdown",
   "id": "d603e957-f764-44cb-b384-589557a4dc0a",
   "metadata": {},
   "source": [
    "|Some of the commonly used libraries used by Data Scientists include:|no.order|\n",
    "|----|----|\n",
    "|pandas|1|\n",
    "|matplotlib|2|\n",
    "|seaborn|3|"
   ]
  },
  {
   "cell_type": "markdown",
   "id": "eb1ef053-8932-4ec8-b2a0-c2be9e9968b4",
   "metadata": {},
   "source": [
    "|Data Science Tools|\n",
    "|----|\n",
    "|JupyterNotebook|\n",
    "|GitHub|\n",
    "|VisualStudioCode|"
   ]
  },
  {
   "cell_type": "markdown",
   "id": "5e71c111-c8ee-47d4-9de2-4458b8a99c2f",
   "metadata": {},
   "source": [
    "### Below are a few examples of evaluating arithmetic expressions in Python"
   ]
  },
  {
   "cell_type": "code",
   "execution_count": 21,
   "id": "8313fb25-4b30-4474-aa5f-aea9c6240e21",
   "metadata": {},
   "outputs": [
    {
     "data": {
      "text/plain": [
       "17"
      ]
     },
     "execution_count": 21,
     "metadata": {},
     "output_type": "execute_result"
    }
   ],
   "source": [
    "#This is a simple arithmetic expression to multiply then add integers\n",
    "(3*4)+5"
   ]
  },
  {
   "cell_type": "code",
   "execution_count": 19,
   "id": "fc95dee0-fe61-468b-9ddc-d1032fcce574",
   "metadata": {},
   "outputs": [
    {
     "data": {
      "text/plain": [
       "3.3333333333333335"
      ]
     },
     "execution_count": 19,
     "metadata": {},
     "output_type": "execute_result"
    }
   ],
   "source": [
    "#This will convert 200 minutes to hours dividing by 60\n",
    "(200/60)"
   ]
  },
  {
   "cell_type": "markdown",
   "id": "809326de-2d99-4273-a554-1d9f20cd2772",
   "metadata": {},
   "source": [
    "# **Objectives:**\n",
    "|Items covered in this notebook|\n",
    "|----|\n",
    "|List popular languages for DS|\n",
    "|Commonly used librabries by DS|\n",
    "|DS tools|\n",
    "|Markdown cells|"
   ]
  },
  {
   "cell_type": "markdown",
   "id": "bfb4c03e-4283-4769-83eb-be590fb55492",
   "metadata": {},
   "source": [
    "## Author\n",
    "Sander Bråthen"
   ]
  },
  {
   "cell_type": "code",
   "execution_count": null,
   "id": "d079f927-5d2c-4f11-a5b6-8560baa63d60",
   "metadata": {},
   "outputs": [],
   "source": []
  }
 ],
 "metadata": {
  "kernelspec": {
   "display_name": "anaconda-panel-2023.05-py310",
   "language": "python",
   "name": "conda-env-anaconda-panel-2023.05-py310-py"
  },
  "language_info": {
   "codemirror_mode": {
    "name": "ipython",
    "version": 3
   },
   "file_extension": ".py",
   "mimetype": "text/x-python",
   "name": "python",
   "nbconvert_exporter": "python",
   "pygments_lexer": "ipython3",
   "version": "3.11.5"
  }
 },
 "nbformat": 4,
 "nbformat_minor": 5
}
